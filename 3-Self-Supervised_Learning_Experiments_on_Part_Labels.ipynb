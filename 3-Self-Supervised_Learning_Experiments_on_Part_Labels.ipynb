{
 "cells": [
  {
   "cell_type": "markdown",
   "metadata": {},
   "source": [
    "In this notebook, we will see how useful are the self-supervised pre-training techniques. We pick face parsing task to evaluate the models. Note that this pre-training strategy is also applicable for other tasks such as object recognition, detection, segmentation, etc. This is because most tasks share a similar underlying network architecture.\n",
    "\n",
    "\n",
    "We will be using <a href=\"http://vis-www.cs.umass.edu/lfw/part_labels/\">Part Labels dataset</a> in this experiment. The task is to label each pixel in the image into one of three classes: Background (blue), Hair (red), and skin (green).\n",
    "<img src=\"http://vis-www.cs.umass.edu/lfw/part_labels/images/img_funneled.jpg\" width=100><img src=\"http://vis-www.cs.umass.edu/lfw/part_labels/images/img_ground_truth.png\" width=100> <br/>\n",
    "There are 13,233 images in total, out of which 2,927 have been labeled. There are 1,500 train, 500 val, and 927 test images. We will be using only 10% of the training set in our experiments. For self-supervised pre-training we will use 5,000 images.\n",
    "\n",
    "\n",
    "We will measure three metrics: mIoU, pixel accuracy and frequency weighted pixel accuracy. These are the popular metrics use in semantic segmentation tasks."
   ]
  },
  {
   "cell_type": "code",
   "execution_count": null,
   "metadata": {
    "collapsed": true,
    "scrolled": false
   },
   "outputs": [],
   "source": [
    "import torch\n",
    "import torch.optim as optim\n",
    "import torchvision\n",
    "import torchvision.transforms as transforms\n",
    "from torch.autograd import Variable\n",
    "import torch.nn as nn\n",
    "\n",
    "### import other stuffs\n",
    "from enc_dec import encoder_decoder\n",
    "from loss import *\n",
    "from utils import *\n",
    "from seg_utils import *\n",
    "import matplotlib.pyplot as plt\n",
    "\n",
    "DATA_ROOT = '/tmp/school/data/beyond_supervised/'"
   ]
  },
  {
   "cell_type": "markdown",
   "metadata": {},
   "source": [
    "Available splits for experiments:\n",
    "\n",
    "10% - train_10p.txt \n",
    "\n",
    "50% - train_50p.txt \n",
    "\n",
    "100% - train.txt"
   ]
  },
  {
   "cell_type": "code",
   "execution_count": null,
   "metadata": {
    "collapsed": true,
    "scrolled": false
   },
   "outputs": [],
   "source": [
    "### define dataset paths\n",
    "train_img_root = DATA_ROOT + 'part_labels/data/images/'\n",
    "train_gt_root = DATA_ROOT + 'part_labels/data/gt/'\n",
    "train_image_list = DATA_ROOT + 'part_labels/splits/train_10p.txt'\n",
    "\n",
    "val_img_root = DATA_ROOT + 'part_labels/data/images/'\n",
    "val_gt_root = DATA_ROOT + 'part_labels/data/gt/'\n",
    "val_image_list = DATA_ROOT + 'part_labels/splits/minival.txt'\n",
    "\n",
    "test_img_root = DATA_ROOT + 'part_labels/data/images/'\n",
    "test_gt_root = DATA_ROOT + 'part_labels/data/gt/'\n",
    "test_image_list = DATA_ROOT + 'part_labels/splits/test.txt'\n",
    "\n",
    "nClasses = 3\n",
    "mean_bgr = np.array([104.00698793, 116.66876762, 122.67891434])"
   ]
  },
  {
   "cell_type": "code",
   "execution_count": null,
   "metadata": {
    "collapsed": true,
    "scrolled": false
   },
   "outputs": [],
   "source": [
    "train_loader = torch.utils.data.DataLoader(SegmentationDataLoader(img_root = train_img_root, gt_root = train_gt_root,\n",
    "                                                                  image_list = train_image_list, transform=True, mirror = True),\n",
    "                                           batch_size=16, num_workers=2, shuffle = True, pin_memory=False)\n",
    "\n",
    "val_loader = torch.utils.data.DataLoader(SegmentationDataLoader(img_root = val_img_root, gt_root = val_gt_root,\n",
    "                                                                  image_list = val_image_list, transform=True, mirror = False),\n",
    "                                           batch_size=16, num_workers=2, shuffle = False, pin_memory=False)\n",
    "\n",
    "test_loader = torch.utils.data.DataLoader(SegmentationDataLoader(img_root = test_img_root, gt_root = test_gt_root,\n",
    "                                                                  image_list = test_image_list, transform=True, mirror = False),\n",
    "                                           batch_size=16, num_workers=2, shuffle = False, pin_memory=False)"
   ]
  },
  {
   "cell_type": "markdown",
   "metadata": {},
   "source": [
    "<img src=\"https://docs.google.com/drawings/d/e/2PACX-1vT_ZXwfGNnjfS221bBh9HDxGM79aavoLARgwHep4hKvlql1si6qscZ9M4fhXKCWxuXNRy6tgBvj__GD/pub?w=2011&h=331\" />"
   ]
  },
  {
   "cell_type": "code",
   "execution_count": null,
   "metadata": {
    "collapsed": true,
    "scrolled": false
   },
   "outputs": [],
   "source": [
    "'''Experiment 1: train semantic segmentation network form scratch using 10% of training data'''\n",
    "'''Initialize model with random weights (He initialization).'''\n",
    "experiment = 'from_scratch'\n",
    "net = encoder_decoder().cuda()\n",
    "\n",
    "# # 55.098452484703344 82.77928629989214 71.4377468041187\n",
    "\n",
    "\n",
    "\n"
   ]
  },
  {
   "cell_type": "code",
   "execution_count": null,
   "metadata": {
    "collapsed": true
   },
   "outputs": [],
   "source": [
    "'''Experiment 2: Fine-tune semantic segmentation network using pre-trained encoder (context prediction) using 10% of training data'''\n",
    "'''Load the pre-trained encoder'''\n",
    "\n",
    "# experiment = 'from_relative_tiles_pre_training'\n",
    "# net = torch.load(DATA_ROOT + 'checkpoint/self_supervised_pre_train_relative_tileckpt.t7')['net']\n",
    "# upsample = nn.Upsample(scale_factor=2, mode='bilinear')\n",
    "\n",
    "'''Add the decoder to the model. Note that the decoder is initialized with random weights'''\n",
    "# net.decoder = nn.Sequential(upsample, nn.Conv2d(64, 64, kernel_size=3, stride=1, padding=1, bias=False), nn.BatchNorm2d(64),\n",
    "#                             upsample, nn.Conv2d(64, 32, kernel_size=3, stride=1, padding=1, bias=False), nn.BatchNorm2d(32), \n",
    "#                             upsample, nn.Conv2d(32, 16, kernel_size=3, stride=1, padding=0, bias=False), nn.BatchNorm2d(16), \n",
    "#                             upsample, nn.Conv2d(16, 3, kernel_size=3, stride=1, padding=0, bias=True))\n",
    "\n",
    "# net.cuda()\n",
    "\n",
    "# # 62.867514016826135 86.01381488673138 76.27833472519274"
   ]
  },
  {
   "cell_type": "code",
   "execution_count": null,
   "metadata": {
    "collapsed": true
   },
   "outputs": [],
   "source": [
    "'''Experiment 3: Fine-tune semantic segmentation network using pre-trained encoder-decoder (context inpainting) using 10% of training data'''\n",
    "'''Load the pre-trained encoder-decoder'''\n",
    "# net = torch.load(DATA_ROOT + 'checkpoint/self_supervised_pre_train_semantic_inpaintingckpt.t7')['net'].cuda()\n",
    "# experiment = 'from_semantic_inpainting_pre_training'\n",
    "# # 65.35361380810471 87.81917583603021 78.72283941521574"
   ]
  },
  {
   "cell_type": "code",
   "execution_count": null,
   "metadata": {
    "scrolled": true
   },
   "outputs": [],
   "source": [
    "print('Net params count (M): ', param_counts(net)/(1000000.0))"
   ]
  },
  {
   "cell_type": "code",
   "execution_count": null,
   "metadata": {
    "collapsed": true,
    "scrolled": false
   },
   "outputs": [],
   "source": [
    "use_cuda = torch.cuda.is_available()\n",
    "best_acc = 0  # best test accuracy"
   ]
  },
  {
   "cell_type": "code",
   "execution_count": null,
   "metadata": {
    "collapsed": true,
    "scrolled": false
   },
   "outputs": [],
   "source": [
    "def train(epoch):\n",
    "    print('\\nTrain epoch: %d' % epoch)\n",
    "    net.train()\n",
    "    hist = np.zeros((nClasses, nClasses))+1e-12\n",
    "    train_loss = 0\n",
    "    for batch_idx, (inputs, labels) in enumerate(train_loader):\n",
    "        if use_cuda:\n",
    "            inputs, labels = inputs.cuda(), labels.cuda()\n",
    "        optimizer.zero_grad()\n",
    "        inputs = Variable(inputs)\n",
    "        outputs = net(inputs)\n",
    "        \n",
    "        loss = cross_entropy2d(outputs, labels)\n",
    "        loss.backward()\n",
    "        optimizer.step()\n",
    "        train_loss += loss.data[0]\n",
    "        _, predicted = torch.max(outputs.data, 1)\n",
    "        correctLabel = labels.view(-1, labels.size()[1], labels.size()[2])\n",
    "\n",
    "        hist += fast_hist(correctLabel.view(correctLabel.size(0),-1).cpu().numpy(),\n",
    "                        predicted.view(predicted.size(0),-1).cpu().numpy(),\n",
    "                        nClasses)\n",
    "        \n",
    "        \n",
    "        miou, p_acc, fwacc = performMetrics(epoch,batch_idx,len(train_loader),hist,train_loss/(batch_idx+1),is_train=True)     \n",
    "        \n",
    "\n",
    "    miou, p_acc, fwacc = performMetrics(epoch,batch_idx,len(train_loader),hist,train_loss/(batch_idx+1),is_train=True)\n",
    "    print('train: mIoU/Accuracy/Freqweighted_Accuracy', miou, p_acc, fwacc)\n"
   ]
  },
  {
   "cell_type": "code",
   "execution_count": null,
   "metadata": {
    "collapsed": true,
    "scrolled": false
   },
   "outputs": [],
   "source": [
    "def val(epoch):\n",
    "    print('\\nVal epoch: %d' % epoch)\n",
    "    global best_acc\n",
    "    net.eval()\n",
    "    val_loss = 0\n",
    "    hist = np.zeros((nClasses, nClasses))+1e-12\n",
    "    for batch_idx, (inputs, labels) in enumerate(val_loader):\n",
    "        if use_cuda:\n",
    "            inputs, labels = inputs.cuda(), labels.cuda()\n",
    "\n",
    "        inputs = Variable(inputs)\n",
    "        outputs = net(inputs)\n",
    "        loss = cross_entropy2d(outputs, labels)\n",
    "\n",
    "        val_loss += loss.data[0]\n",
    "        _, predicted = torch.max(outputs.data, 1)\n",
    "        correctLabel = labels.view(-1, labels.size()[1], labels.size()[2])\n",
    "\n",
    "        hist += fast_hist(correctLabel.view(correctLabel.size(0),-1).cpu().numpy(),\n",
    "                        predicted.view(predicted.size(0),-1).cpu().numpy(),\n",
    "                        nClasses)\n",
    "        \n",
    "        \n",
    "        miou, p_acc, fwacc = performMetrics(epoch,batch_idx,len(val_loader),hist,val_loss/(batch_idx+1),is_train=False)\n",
    "              \n",
    "        \n",
    "\n",
    "    miou, p_acc, fwacc = performMetrics(epoch,batch_idx,len(val_loader),hist,val_loss/(batch_idx+1),is_train=False)\n",
    "    print('val: mIoU/Accuracy/Freqweighted_Accuracy', miou, p_acc, fwacc)\n",
    "\n",
    "    # Save checkpoint.\n",
    "    if p_acc > best_acc:\n",
    "        print('Saving..')\n",
    "        state = {'net': net}\n",
    "        if not os.path.isdir(DATA_ROOT + 'checkpoint'):\n",
    "            os.mkdir(DATA_ROOT + 'checkpoint')\n",
    "        torch.save(state, DATA_ROOT + 'checkpoint/'+experiment+'ckpt.t7')\n",
    "        best_acc = p_acc"
   ]
  },
  {
   "cell_type": "code",
   "execution_count": null,
   "metadata": {
    "scrolled": true
   },
   "outputs": [],
   "source": [
    "optimizer = optim.SGD(net.parameters(), lr=1e-3, momentum=0.9, weight_decay=0.0005)\n",
    "for epoch in range(0, 100):\n",
    "    if epoch == 80:\n",
    "        optimizer = optim.SGD(net.parameters(), lr=1e-5, momentum=0.9, weight_decay=0.0005)\n",
    "    if epoch == 60:\n",
    "        optimizer = optim.SGD(net.parameters(), lr=1e-4, momentum=0.9, weight_decay=0.0005)\n",
    "    train(epoch)\n",
    "    val(epoch)"
   ]
  },
  {
   "cell_type": "code",
   "execution_count": null,
   "metadata": {
    "collapsed": true,
    "scrolled": false
   },
   "outputs": [],
   "source": [
    "net = torch.load(DATA_ROOT + 'checkpoint/'+experiment+'ckpt.t7')['net'].cuda().eval()"
   ]
  },
  {
   "cell_type": "code",
   "execution_count": null,
   "metadata": {
    "collapsed": true,
    "scrolled": true
   },
   "outputs": [],
   "source": [
    "def apply_color_map(x):\n",
    "    img = np.zeros((x.shape[0], x.shape[1], 3), dtype = np.uint8)\n",
    "    indices = np.where(x==0)\n",
    "    \n",
    "    img[indices[0], indices[1] ,2] = 255\n",
    "    \n",
    "    indices = np.where(x==1)\n",
    "    img[indices[0], indices[1] ,1] = 255\n",
    "    \n",
    "    indices = np.where(x==2)\n",
    "    img[indices[0], indices[1] ,0] = 255\n",
    "    \n",
    "    return img"
   ]
  },
  {
   "cell_type": "code",
   "execution_count": null,
   "metadata": {
    "collapsed": true,
    "scrolled": true
   },
   "outputs": [],
   "source": [
    "def evaluate(epoch=0):\n",
    "    net.eval()\n",
    "    test_loss = 0\n",
    "    hist = np.zeros((nClasses, nClasses))+1e-12\n",
    "    for batch_idx, (inputs, labels) in enumerate(test_loader):\n",
    "        if use_cuda:\n",
    "            inputs, labels = inputs.cuda(), labels.cuda()\n",
    "        inputs = Variable(inputs)\n",
    "        outputs = net(inputs)\n",
    "        loss = cross_entropy2d(outputs, labels)\n",
    "        _, predicted = torch.max(outputs.data, 1)\n",
    "        \n",
    "        i = (inputs[0].data.cpu().numpy().transpose(1,2,0) + mean_bgr).astype(np.uint8)[:,:,::-1]\n",
    "        g = apply_color_map(labels[0].cpu().numpy())\n",
    "        o = apply_color_map(predicted[0].cpu().numpy())\n",
    "        vis = np.concatenate((i,g,o), axis = 1)\n",
    "        plt.imshow(vis)\n",
    "        plt.show()\n",
    "    \n",
    "        correctLabel = labels.view(-1, labels.size()[1], labels.size()[2])\n",
    "\n",
    "        hist += fast_hist(correctLabel.view(correctLabel.size(0),-1).cpu().numpy(),\n",
    "                        predicted.view(predicted.size(0),-1).cpu().numpy(),\n",
    "                        nClasses)\n",
    "        \n",
    "        \n",
    "        miou, p_acc, fwacc = performMetrics(epoch,batch_idx,len(test_loader),hist,test_loss/(batch_idx+1),is_train=False)\n",
    "              \n",
    "        \n",
    "\n",
    "    miou, p_acc, fwacc = performMetrics(epoch,batch_idx,len(test_loader),hist,test_loss/(batch_idx+1),is_train=False)\n",
    "    print('test: mIoU/Accuracy/Freqweighted_Accuracy', miou, p_acc, fwacc)"
   ]
  },
  {
   "cell_type": "code",
   "execution_count": null,
   "metadata": {
    "scrolled": true
   },
   "outputs": [],
   "source": [
    "evaluate()"
   ]
  },
  {
   "cell_type": "code",
   "execution_count": null,
   "metadata": {
    "collapsed": true,
    "scrolled": true
   },
   "outputs": [],
   "source": []
  }
 ],
 "metadata": {
  "kernelspec": {
   "display_name": "Python 2",
   "language": "python",
   "name": "python2"
  },
  "language_info": {
   "codemirror_mode": {
    "name": "ipython",
    "version": 2
   },
   "file_extension": ".py",
   "mimetype": "text/x-python",
   "name": "python",
   "nbconvert_exporter": "python",
   "pygments_lexer": "ipython2",
   "version": "2.7.12"
  }
 },
 "nbformat": 4,
 "nbformat_minor": 2
}
